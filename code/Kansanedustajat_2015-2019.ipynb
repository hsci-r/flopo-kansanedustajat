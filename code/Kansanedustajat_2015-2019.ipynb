{
 "cells": [
  {
   "cell_type": "code",
   "execution_count": 24,
   "metadata": {},
   "outputs": [],
   "source": [
    "import requests\n",
    "from bs4 import BeautifulSoup\n",
    "\n",
    "URL = \"https://fi.wikipedia.org/wiki/Luettelo_vaalikauden_2015%E2%80%932019_kansanedustajista\"\n",
    "page = requests.get(URL)\n",
    "\n",
    "soup = BeautifulSoup(page.content, \"html.parser\")"
   ]
  },
  {
   "cell_type": "code",
   "execution_count": 25,
   "metadata": {},
   "outputs": [],
   "source": [
    "tabs = soup.find_all(\"table\",{\"class\":\"wikitable sortable\"})\n",
    "ked = tabs[1]\n",
    "rows = ked.find_all(\"tr\")"
   ]
  },
  {
   "cell_type": "code",
   "execution_count": 26,
   "metadata": {},
   "outputs": [
    {
     "name": "stdout",
     "output_type": "stream",
     "text": [
      "215\n"
     ]
    }
   ],
   "source": [
    "i = 0\n",
    "names = []\n",
    "parties = []\n",
    "for row in rows:\n",
    "    if i == 0:\n",
    "        i += 1\n",
    "        continue\n",
    "    columns = row.find_all(\"td\")\n",
    "    #print(columns)\n",
    "    name = columns[0].find_all(\"span\")[0].get_text()\n",
    "    party = columns[2].find_all(\"a\")[0].get_text()\n",
    "    #print(name, party)\n",
    "    names.append(name)\n",
    "    parties.append(party)\n",
    "    i += 1\n",
    "    \n",
    "print(i)"
   ]
  },
  {
   "cell_type": "code",
   "execution_count": 27,
   "metadata": {},
   "outputs": [],
   "source": [
    "import pandas as pd\n",
    "df = pd.DataFrame(list(zip(names, parties)),\n",
    "               columns =['name', 'party'])\n",
    "\n",
    "df.to_csv(\"kansanedustajat_2015-2019.csv\")"
   ]
  }
 ],
 "metadata": {
  "kernelspec": {
   "display_name": "Python 3",
   "language": "python",
   "name": "python3"
  },
  "language_info": {
   "codemirror_mode": {
    "name": "ipython",
    "version": 3
   },
   "file_extension": ".py",
   "mimetype": "text/x-python",
   "name": "python",
   "nbconvert_exporter": "python",
   "pygments_lexer": "ipython3",
   "version": "3.8.3"
  }
 },
 "nbformat": 4,
 "nbformat_minor": 4
}
