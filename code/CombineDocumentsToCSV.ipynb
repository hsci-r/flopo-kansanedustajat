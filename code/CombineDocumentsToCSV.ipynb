{
 "cells": [
  {
   "cell_type": "code",
   "execution_count": 5,
   "metadata": {},
   "outputs": [],
   "source": [
    "import os\n",
    "import pandas as pd\n",
    "\n",
    "folder = \"document_ids/hs/\"\n",
    "hs_dfs = []\n",
    "\n",
    "for file in os.listdir(folder):\n",
    "    df = pd.read_csv(folder+file)\n",
    "    df['media'] = \"hs\"\n",
    "    name = file.replace(\"%23\", \"-\")\n",
    "    df['key'] = name.split(\".\")[0]\n",
    "    hs_dfs.append(df)\n",
    "    \n",
    "\n",
    "hs_df = pd.concat(hs_dfs)\n",
    "    \n",
    "il_folder = \"document_ids/il/\"\n",
    "il_dfs = []\n",
    "\n",
    "for file in os.listdir(folder):\n",
    "    df = pd.read_csv(folder+file)\n",
    "    df['media'] = \"il\"\n",
    "    name = file.replace(\"%23\", \"-\")\n",
    "    df['key'] = name.split(\".\")[0]\n",
    "    il_dfs.append(df)\n",
    "    \n",
    "il_df = pd.concat(il_dfs)\n",
    "    \n",
    "yle_folder = \"document_ids/yle/\"\n",
    "yle_dfs = []\n",
    "\n",
    "for file in os.listdir(folder):\n",
    "    df = pd.read_csv(folder+file)\n",
    "    df['media'] = \"yle\"\n",
    "    name = file.replace(\"%23\", \"-\")\n",
    "    df['key'] = name.split(\".\")[0]\n",
    "    yle_dfs.append(df)\n",
    "    \n",
    "yle_df = pd.concat(yle_dfs)\n",
    "    \n",
    "stt_folder = \"document_ids/stt/\"\n",
    "stt_dfs = []\n",
    "\n",
    "for file in os.listdir(folder):\n",
    "    df = pd.read_csv(folder+file)\n",
    "    df['media'] = \"stt\"\n",
    "    name = file.replace(\"%23\", \"-\")\n",
    "    df['key'] = name.split(\".\")[0]\n",
    "    stt_dfs.append(df)\n",
    "    \n",
    "stt_df = pd.concat(stt_dfs)\n",
    "    \n",
    "joined = pd.concat([hs_df, il_df, yle_df, stt_df])"
   ]
  },
  {
   "cell_type": "code",
   "execution_count": 6,
   "metadata": {},
   "outputs": [
    {
     "name": "stdout",
     "output_type": "stream",
     "text": [
      "   score    document_id media                   key\n",
      "0      6  2000002610564    hs  Sirkka-Liisa_Anttila\n",
      "1      6  2000002614071    hs  Sirkka-Liisa_Anttila\n",
      "2      6  2000002697606    hs  Sirkka-Liisa_Anttila\n",
      "3      6  2000002727496    hs  Sirkka-Liisa_Anttila\n",
      "4      6  2000002826809    hs  Sirkka-Liisa_Anttila\n",
      "..   ...            ...   ...                   ...\n",
      "78     2  2000004700085   stt          Matti_Kangas\n",
      "79     2  2000004710606   stt          Matti_Kangas\n",
      "80     2  2000004737963   stt          Matti_Kangas\n",
      "81     2  2000004773758   stt          Matti_Kangas\n",
      "82     2  2000004780576   stt          Matti_Kangas\n",
      "\n",
      "[1100284 rows x 4 columns]\n"
     ]
    }
   ],
   "source": [
    "print(joined)"
   ]
  },
  {
   "cell_type": "code",
   "execution_count": 7,
   "metadata": {},
   "outputs": [],
   "source": [
    "joined.to_csv(\"kansanedustaja_documents_joined.csv\")"
   ]
  },
  {
   "cell_type": "code",
   "execution_count": null,
   "metadata": {},
   "outputs": [],
   "source": []
  }
 ],
 "metadata": {
  "kernelspec": {
   "display_name": "Python 3",
   "language": "python",
   "name": "python3"
  },
  "language_info": {
   "codemirror_mode": {
    "name": "ipython",
    "version": 3
   },
   "file_extension": ".py",
   "mimetype": "text/x-python",
   "name": "python",
   "nbconvert_exporter": "python",
   "pygments_lexer": "ipython3",
   "version": "3.8.3"
  }
 },
 "nbformat": 4,
 "nbformat_minor": 4
}
