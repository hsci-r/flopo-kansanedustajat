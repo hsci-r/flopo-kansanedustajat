{
 "cells": [
  {
   "cell_type": "code",
   "execution_count": null,
   "metadata": {
    "collapsed": true
   },
   "outputs": [],
   "source": [
    "import os, sys, xml.etree.ElementTree as ET, pandas as pd, csv"
   ]
  },
  {
   "cell_type": "code",
   "execution_count": null,
   "outputs": [],
   "source": [
    "def parse_xml(tree):\n",
    "    root = tree.getroot()\n",
    "    sukunimi = root.find(\"SukuNimi\").text\n",
    "    etunimi = root.find(\"KutsumaNimi\").text\n",
    "    kokonimi = (f'{etunimi}_{sukunimi}').replace(\" \", \"\") #some entries contain whitespace\n",
    "\n",
    "    syntymapaiva = root.find(\"SyntymaPvm\").text\n",
    "    sukupuoli = root.find(\"SukuPuoliKoodi\").text\n",
    "\n",
    "    toimielimet = root.findall(\".//Toimielin\")\n",
    "    toimielinjasenyydet = []\n",
    "\n",
    "    # kerätään puhemiehistön jäsenet ja valiokuntien pj:t ja vpj:t\n",
    "    for toimielin in toimielimet:\n",
    "        if toimielin.find('Nimi').text == 'Puhemiehistö':\n",
    "            paikka = toimielin.find('Nimi').text\n",
    "            rooli = toimielin.find('Jasenyys/Rooli').text\n",
    "            alku = toimielin.find('Jasenyys/AlkuPvm').text\n",
    "            loppu = toimielin.find('Jasenyys/LoppuPvm').text\n",
    "            toimielinjasenyydet.append([paikka, rooli, alku, loppu])\n",
    "        if toimielin.attrib.get('OnkoValiokunta') == 'true':\n",
    "            paikka = toimielin.find('Nimi').text\n",
    "            if toimielin.find('Jasenyys/Rooli').text == 'Puheenjohtaja' or toimielin.find('Jasenyys/Rooli').text == 'Varapuheenjohtaja':\n",
    "                rooli = toimielin.find('Jasenyys/Rooli').text\n",
    "                alku = toimielin.find('Jasenyys/AlkuPvm').text\n",
    "                loppu = toimielin.find('Jasenyys/LoppuPvm').text\n",
    "                toimielinjasenyydet.append([paikka, rooli, alku, loppu])\n",
    "\n",
    "    data[kokonimi] = [syntymapaiva, sukupuoli, toimielinjasenyydet]"
   ],
   "metadata": {
    "collapsed": false,
    "pycharm": {
     "name": "#%%\n"
    }
   }
  },
  {
   "cell_type": "code",
   "execution_count": null,
   "outputs": [],
   "source": [
    "files = os.listdir('mop')\n",
    "data = {}\n",
    "\n",
    "for file in files:\n",
    "    tree = ET.parse(f'mop/{file}')\n",
    "    parse_xml(tree)\n",
    "\n",
    "filename = 'parliamentary_roles.csv'\n",
    "(pd.DataFrame.from_dict(data=data, orient='index').to_csv(filename, header=False))"
   ],
   "metadata": {
    "collapsed": false,
    "pycharm": {
     "name": "#%%\n"
    }
   }
  }
 ],
 "metadata": {
  "kernelspec": {
   "display_name": "Python 3",
   "language": "python",
   "name": "python3"
  },
  "language_info": {
   "codemirror_mode": {
    "name": "ipython",
    "version": 2
   },
   "file_extension": ".py",
   "mimetype": "text/x-python",
   "name": "python",
   "nbconvert_exporter": "python",
   "pygments_lexer": "ipython2",
   "version": "2.7.6"
  }
 },
 "nbformat": 4,
 "nbformat_minor": 0
}