{
 "cells": [
  {
   "cell_type": "code",
   "execution_count": 13,
   "metadata": {},
   "outputs": [
    {
     "name": "stdout",
     "output_type": "stream",
     "text": [
      "['Ahde', 'Ahonen', 'Akaan-Penttilä', 'Alanko-Kahiluoto', 'Alatalo', 'Andersson', 'Andersson', 'Anttila', 'Arhinmäki', 'Asell', 'Asko-Seljavaara', 'Autio', 'Blomqvist', 'Brax', 'Feldt-Ranta', 'Filatov', 'Forsius', 'Gestrin', 'Gustafsson', 'Guzenina-Richardson', 'Haapoja', 'Haatainen', 'Haavisto', 'Hakola', 'Harkimo', 'Hautala', 'Hautala', 'Heikkinen', 'Heinonen', 'Heinäluoma', 'Hemmilä', 'Hemming', 'Henriksson', 'Hiltunen', 'Holmlund', 'Hoskonen', 'Huovinen', 'Hurskainen', 'Hyssälä', 'Häkämies', 'Hänninen', 'Jaakonsaari', 'Jaskari', 'Jokinen', 'Juurikkala', 'Järvinen', 'Jääskeläinen', 'Kaikkonen', 'Kalliomäki', 'Kallio', 'Kallis', 'Kalli', 'Kalmari', 'Kaltiokumpu', 'Kanerva', 'Kangas', 'Kankaanniemi', 'Kantola', 'Karhu', 'Karhuvaara', 'Karimäki', 'Karjula', 'Karpela', 'Karvo', 'Kasvi', 'Katainen', 'Katainen', 'Kataja', 'Kaunisto', 'Kauppila', 'Kerola', 'Kiljunen', 'Kiljunen', 'Kiuru', 'Kiviniemi', 'Kiviranta', 'Komi', 'Korhonen', 'Korhonen', 'Korkeaoja', 'Koskinen', 'Koskinen', 'Koskinen', 'Koski', 'Kuisma', 'Kumpula-Natri', 'Kuoppa', 'Kuusisto', 'Kyllönen', 'Kähkönen', 'Kärkkäinen', 'Kääriäinen', 'Laakso', 'Lahtela', 'Laitinen', 'Lapintie', 'Larikka', 'Laukkanen', 'Lauslahti', 'Laxell', 'Lehti', 'Lehtomäki', 'Leppä', 'Lindén', 'Lintilä', 'Lipponen', 'Manninen', 'Matikainen-Kallström', 'Mieto', 'Mustajärvi', 'Mäkelä', 'Mäkelä', 'Mäkinen', 'Nauclér', 'Nepponen', 'Niinistö', 'Niinistö', 'Nordman', 'Nurmi', 'Nylander', 'Nylund', 'Oinonen', 'Juhani', 'Ojala-Niemelä', 'Ojansuu', 'Ollila', 'Orpo', 'Paajanen', 'Paasio', 'Paatero', 'Pakkanen', 'Palm', 'Paloniemi', 'Pekkarinen', 'Peltonen', 'Pentti', 'Perkiö', 'Pihlajaniemi', 'Piirainen', 'Puhjo', 'Pulliainen', 'Puumala', 'Rajala', 'Rajamäki', 'Rantakangas', 'Rauhala', 'Ravi', 'Rehula', 'Reijonen', 'Risikko', 'Rossi', 'Ruohonen-Lerner', 'Räsänen', 'Rönni', 'Saarinen', 'Salolainen', 'Salo', 'Salovaara', 'Sarkomaa', 'Sasi', 'Satonen', 'Seurujärvi', 'Sihto', 'Sinnemäki', 'Sirnö', 'Skinnari', 'Soini', 'Sumuvuori', 'Särkiniemi', 'Söderman', 'Tabermann', 'Taimela', 'Taiveaho', 'Tallqvist', 'Tennilä', 'Thors', 'Tiilikainen', 'Tiura', 'Tiusanen', 'Toivakka', 'Tuomioja', 'Tynkkynen', 'Tölli', 'Ukkola', 'Uotila', 'Urpilainen', 'Uusipaavalniemi', 'Vahasalo', 'Valpas', 'Vanhanen', 'Vapaavuori', 'Vehkaperä', 'Vehviläinen', 'Viitamies', 'Viitanen', 'Viljanen', 'Vilkuna', 'Virkkunen', 'Virolainen', 'Virtanen', 'Virtanen', 'Vistbacka', 'Vuolanne', 'Väyrynen', 'Väätäinen', 'Wallin', 'Wideroos', 'Yrttiaho', 'Zyskowicz']\n",
      "['Matti', 'Esko', 'Eero', 'Outi', 'Mikko', 'Claes', 'Janina', 'Sirkka-Liisa', 'Paavo', 'Marko', 'Sirpa', 'Risto', 'Thomas', 'Tuija', 'Maarit', 'Tarja', 'Merikukka', 'Christina', 'Jukka', 'Maria', 'Susanna', 'Tuula', 'Pekka', 'Juha', 'Leena', 'Heidi', 'Lasse', 'Hannakaisa', 'Timo', 'Eero', 'Pertti', 'Hanna-Leena', 'Anna-Maja', 'Rakel', 'Anne', 'Hannu', 'Susanna', 'Sinikka', 'Liisa', 'Jyri', 'Tuomo', 'Liisa', 'Harri', 'Kalle', 'Timo', 'Heli', 'Pietari', 'Antti', 'Antti', 'Reijo', 'Bjarne', 'Timo', 'Anne', 'Oiva', 'Ilkka', 'Matti', 'Toimi', 'Ilkka', 'Saara', 'Arja', 'Johanna', 'Kyösti', 'Tanja', 'Ulla', 'Jyrki', 'Elsi', 'Jyrki', 'Sampsa', 'Timo', 'Matti', 'Inkeri', 'Anneli', 'Kimmo', 'Krista', 'Mari', 'Esko', 'Katri', 'Martti', 'Timo', 'Juha', 'Jari', 'Johannes', 'Marjaana', 'Valto', 'Risto', 'Miapetra', 'Mikko', 'Merja', 'Merja', 'Lauri', 'Kari', 'Seppo', 'Jaakko', 'Esa', 'Reijo', 'Annika', 'Jari', 'Markku', 'Sanna', 'Jouko', 'Eero', 'Paula', 'Jari', 'Suvi', 'Mika', 'Päivi', 'Hannes', 'Marjo', 'Juha', 'Markus', 'Jukka', 'Outi', 'Tapani', 'Elisabeth', 'Olli', 'Sauli', 'Ville', 'Håkan', 'Tuija', 'Mikaela', 'Mats', 'Lauri', 'Pentti', 'Johanna', 'Kirsi', 'Heikki', 'Petteri', 'Reijo', 'Heli', 'Sirpa', 'Markku', 'Sari', 'Aila', 'Mauri', 'Tuula', 'Klaus', 'Sanna', 'Petri', 'Raimo', 'Veijo', 'Erkki', 'Tuomo', 'Lyly', 'Kari', 'Antti', 'Leena', 'Pekka', 'Juha', 'Eero', 'Paula', 'Markku', 'Pirkko', 'Päivi', 'Tero', 'Matti', 'Pertti', 'Petri', 'Pertti', 'Sari', 'Kimmo', 'Arto', 'Janne', 'Paula', 'Anni', 'Minna', 'Jouko', 'Timo', 'Johanna', 'Seppo', 'Jacob', 'Tommy', 'Katja', 'Satu', 'Tarja', 'Esko-Juhani', 'Astrid', 'Kimmo', 'Marja', 'Pentti', 'Lenita', 'Erkki', 'Oras', 'Tapani', 'Tuulikki', 'Kari', 'Jutta', 'Markku', 'Raija', 'Unto', 'Matti', 'Jan', 'Mirja', 'Anu', 'Pauliina', 'Pia', 'Ilkka', 'Pekka', 'Henna', 'Anne-Mari', 'Erkki', 'Pertti \"\"Veltto\"\"', 'Raimo', 'Antti', 'Paavo', 'Tuula', 'Stefan', 'Ulla-Maj', 'Jyrki', 'Ben']\n"
     ]
    }
   ],
   "source": [
    "import pandas as pd\n",
    "\n",
    "df = pd.read_csv(\"testi\")\n",
    "\n",
    "last_names = list(df['firstname'])\n",
    "\n",
    "first_names = list(df['lastname'])\n",
    "\n",
    "print(last_names)\n",
    "print(first_names)\n",
    "\n",
    "\n",
    "df['firstname'] = first_names\n",
    "df['lastname'] = last_names\n",
    "\n",
    "df = df[['name','party', 'firstname', 'lastname', 'position']]\n",
    "df.to_csv(\"kansanedustajat_2007-2011.csv\")"
   ]
  },
  {
   "cell_type": "code",
   "execution_count": null,
   "metadata": {},
   "outputs": [],
   "source": []
  }
 ],
 "metadata": {
  "kernelspec": {
   "display_name": "Python 3",
   "language": "python",
   "name": "python3"
  },
  "language_info": {
   "codemirror_mode": {
    "name": "ipython",
    "version": 3
   },
   "file_extension": ".py",
   "mimetype": "text/x-python",
   "name": "python",
   "nbconvert_exporter": "python",
   "pygments_lexer": "ipython3",
   "version": "3.8.3"
  }
 },
 "nbformat": 4,
 "nbformat_minor": 4
}
