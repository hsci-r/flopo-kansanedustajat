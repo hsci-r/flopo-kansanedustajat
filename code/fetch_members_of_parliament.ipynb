{
  "cells": [
    {
      "cell_type": "code",
      "source": [
        "import requests\n",
        "import xml.dom.minidom"
      ],
      "outputs": [],
      "execution_count": 9,
      "metadata": {
        "collapsed": true,
        "jupyter": {
          "source_hidden": false,
          "outputs_hidden": false
        },
        "nteract": {
          "transient": {
            "deleting": false
          }
        },
        "execution": {
          "iopub.status.busy": "2021-11-04T12:57:17.368Z",
          "iopub.execute_input": "2021-11-04T12:57:17.373Z",
          "iopub.status.idle": "2021-11-04T12:57:17.380Z",
          "shell.execute_reply": "2021-11-04T12:57:17.383Z"
        }
      }
    },
    {
      "cell_type": "code",
      "source": [
        "page = 0\n",
        "while True:\n",
        "  r = requests.get(\"https://avoindata.eduskunta.fi/api/v1/tables/MemberOfParliament/rows\",params={\"perPage\":100,\"page\":page})\n",
        "  d = r.json()\n",
        "  for person in d['rowData']:\n",
        "    id = person[0]\n",
        "    lastname = person[1].strip().replace(\" \",\"_\").replace(\".\",\"\")\n",
        "    firstname = person[2].replace(\" \",\"_\").replace(\".\",\"\")\n",
        "    with open(f\"../data/mop/{id}_{lastname}_{firstname}.xml\",'w') as wf:\n",
        "      dom = xml.dom.minidom.parseString(person[7])\n",
        "      wf.write(dom.toprettyxml())\n",
        "  if not d['hasMore']:\n",
        "    break\n",
        "  page += 1\n",
        "  "
      ],
      "outputs": [],
      "execution_count": 17,
      "metadata": {
        "collapsed": true,
        "jupyter": {
          "source_hidden": false,
          "outputs_hidden": false
        },
        "nteract": {
          "transient": {
            "deleting": false
          }
        },
        "execution": {
          "iopub.status.busy": "2021-11-04T13:03:17.319Z",
          "iopub.execute_input": "2021-11-04T13:03:17.323Z",
          "iopub.status.idle": "2021-11-04T13:03:36.896Z",
          "shell.execute_reply": "2021-11-04T13:03:36.901Z"
        }
      }
    },
    {
      "cell_type": "code",
      "source": [],
      "outputs": [],
      "execution_count": null,
      "metadata": {
        "collapsed": true,
        "jupyter": {
          "source_hidden": false,
          "outputs_hidden": false
        },
        "nteract": {
          "transient": {
            "deleting": false
          }
        }
      }
    }
  ],
  "metadata": {
    "kernel_info": {
      "name": "python3"
    },
    "language_info": {
      "name": "python",
      "version": "3.7.11",
      "mimetype": "text/x-python",
      "codemirror_mode": {
        "name": "ipython",
        "version": 3
      },
      "pygments_lexer": "ipython3",
      "nbconvert_exporter": "python",
      "file_extension": ".py"
    },
    "kernelspec": {
      "argv": [
        "/usr/local/anaconda3/bin/python",
        "-m",
        "ipykernel_launcher",
        "-f",
        "{connection_file}"
      ],
      "display_name": "Python 3",
      "language": "python",
      "name": "python3"
    },
    "nteract": {
      "version": "0.28.0"
    }
  },
  "nbformat": 4,
  "nbformat_minor": 0
}